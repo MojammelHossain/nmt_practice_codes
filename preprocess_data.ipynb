{
 "cells": [
  {
   "cell_type": "code",
   "execution_count": 2,
   "metadata": {},
   "outputs": [],
   "source": [
    "from ipynb.fs.full.vocab import *\n",
    "from ipynb.fs.full.batch import *\n",
    "import re\n",
    "import pandas as pd\n",
    "import ast"
   ]
  },
  {
   "cell_type": "code",
   "execution_count": 3,
   "metadata": {},
   "outputs": [],
   "source": [
    "# Thanks to https://stackoverflow.com/questions/43018030/replace-apostrophe-short-words-in-python\n",
    "# convert most of the apostrophe words in to it's full form\n",
    "def decontracted(phrase):\n",
    "    # specific\n",
    "    phrase = re.sub(r\"’\", \"'\", phrase)\n",
    "    phrase = re.sub(r\"&\", \"and\", phrase)\n",
    "    phrase = re.sub(r\"won\\'t\", \"will not\", phrase)\n",
    "    phrase = re.sub(r\"can\\'t\", \"can not\", phrase)\n",
    "    phrase = re.sub(r\"ain\\'t\", \"am not\", phrase)\n",
    "    phrase = re.sub(r\"how\\'d\", \"how did\", phrase)\n",
    "    phrase = re.sub(r\"let\\'s\", \"let us\", phrase)\n",
    "    phrase = re.sub(r\"ma\\'ma\", \"madam\", phrase)\n",
    "    phrase = re.sub(r\"o\\'clock\", \"of the clock\", phrase)\n",
    "    phrase = re.sub(r\"sha'n\\'t\", \"shall not\", phrase)\n",
    "    phrase = re.sub(r\"shan\\'t\", \"shall not\", phrase)\n",
    "    phrase = re.sub(r\"y\\'all\", \"you all\", phrase)\n",
    "    \n",
    "\n",
    "    # general\n",
    "    phrase = re.sub(r\"n\\'t\", \" not\", phrase)\n",
    "    phrase = re.sub(r\"\\'re\", \" are\", phrase)\n",
    "    phrase = re.sub(r\"\\'s\", \" is\", phrase)\n",
    "    phrase = re.sub(r\"\\'d\", \" would\", phrase)\n",
    "    phrase = re.sub(r\"\\'ll\", \" will\", phrase)\n",
    "    phrase = re.sub(r\"\\'t\", \" not\", phrase)\n",
    "    phrase = re.sub(r\"\\'ve\", \" have\", phrase)\n",
    "    phrase = re.sub(r\"\\'m\", \" am\", phrase)\n",
    "    return phrase"
   ]
  },
  {
   "cell_type": "code",
   "execution_count": 4,
   "metadata": {},
   "outputs": [],
   "source": [
    "# read the dictionary which hold most of the base english words plus it's different form\n",
    "file = open(\"lemma_dict.txt\", \"r\")\n",
    "contents = file.read()\n",
    "dictionary = ast.literal_eval(contents)\n",
    "file.close()"
   ]
  },
  {
   "cell_type": "code",
   "execution_count": 40,
   "metadata": {},
   "outputs": [],
   "source": [
    "# convert eaten, eats, eating words into base word eat\n",
    "def convert_to_base_word(sentence):\n",
    "    return ' '.join(\n",
    "       dictionary[word] if word in dictionary.keys() else word for word in sentence.split(' ')\n",
    "    )\n",
    "# remove all english letter number and bangla number from given bangla content\n",
    "def normalize_string_bangla(sentence):\n",
    "    sentence = re.sub(r\"[a-zA-Z0-9০-৯]+\", r\"\", sentence)\n",
    "    sentence = punctuation_remove(sentence)\n",
    "    return sentence\n",
    "# remove most of the punctuation from given sentence\n",
    "def punctuation_remove(sentence):\n",
    "    sentence = re.sub(r'[\\xa0।_.?!,|:\\/\"”“’‘$)(-]+', r\" \", sentence)\n",
    "    sentence = re.sub(' +', ' ', sentence)\n",
    "    return sentence.strip()\n",
    "# helping function for normalizing english content also remove english number\n",
    "def normalize_string_english(sentence):\n",
    "    sentence = decontracted(sentence)\n",
    "    sentence = re.sub(r\"[0-9']+\", r\"\", sentence)\n",
    "    sentence = punctuation_remove(sentence)\n",
    "    sentence = convert_to_base_word(sentence)\n",
    "    return sentence"
   ]
  },
  {
   "cell_type": "code",
   "execution_count": 41,
   "metadata": {},
   "outputs": [],
   "source": [
    "lines = open('data_news.txt', encoding = 'utf-8').read().strip().split('\\n')"
   ]
  },
  {
   "cell_type": "code",
   "execution_count": 42,
   "metadata": {},
   "outputs": [],
   "source": [
    "en = []\n",
    "bn = []\n",
    "for l in lines:\n",
    "    contents = l.split('\\t')\n",
    "    en.append(contents[0])\n",
    "    bn.append(contents[1])"
   ]
  },
  {
   "cell_type": "code",
   "execution_count": 43,
   "metadata": {},
   "outputs": [],
   "source": [
    "for i in range(len(en)):\n",
    "    en[i] = normalize_string_english(en[i].lower().strip())\n",
    "    bn[i] = normalize_string_bangla(bn[i].strip())"
   ]
  },
  {
   "cell_type": "code",
   "execution_count": 44,
   "metadata": {},
   "outputs": [],
   "source": [
    "preprocess_data = pd.DataFrame(list(zip(en, bn)), columns = ['en', 'bn'])"
   ]
  },
  {
   "cell_type": "code",
   "execution_count": 45,
   "metadata": {},
   "outputs": [
    {
     "data": {
      "text/html": [
       "<div>\n",
       "<style scoped>\n",
       "    .dataframe tbody tr th:only-of-type {\n",
       "        vertical-align: middle;\n",
       "    }\n",
       "\n",
       "    .dataframe tbody tr th {\n",
       "        vertical-align: top;\n",
       "    }\n",
       "\n",
       "    .dataframe thead th {\n",
       "        text-align: right;\n",
       "    }\n",
       "</style>\n",
       "<table border=\"1\" class=\"dataframe\">\n",
       "  <thead>\n",
       "    <tr style=\"text-align: right;\">\n",
       "      <th></th>\n",
       "      <th>en</th>\n",
       "      <th>bn</th>\n",
       "    </tr>\n",
       "  </thead>\n",
       "  <tbody>\n",
       "    <tr>\n",
       "      <th>0</th>\n",
       "      <td>twenty three accuse are currently abscond the ...</td>\n",
       "      <td>গত অক্টোবর শুরু হওয়ার পর প্রায় আড়াই মাসে কার্য...</td>\n",
       "    </tr>\n",
       "    <tr>\n",
       "      <th>1</th>\n",
       "      <td>donald trump reuters file photo they give safe...</td>\n",
       "      <td>ডোনাল্ড ট্রাম্প ছবি রয়টার্স আফগানিস্তানে মার্ক...</td>\n",
       "    </tr>\n",
       "    <tr>\n",
       "      <th>2</th>\n",
       "      <td>the dead are year old shantona akter and her d...</td>\n",
       "      <td>সবুজবাগ থানার পরিদর্শক তদন্ত মোস্তাফিজুর রহমান...</td>\n",
       "    </tr>\n",
       "    <tr>\n",
       "      <th>3</th>\n",
       "      <td>trump deny use the word to describe haiti and ...</td>\n",
       "      <td>এমাসের শুরু দিকে ওভাল অফিসে অভিবাসন নীতি নিয়ে ...</td>\n",
       "    </tr>\n",
       "    <tr>\n",
       "      <th>4</th>\n",
       "      <td>the settlement is one the large payment make b...</td>\n",
       "      <td>রয়টার্সের এক প্রতিবেদনে বলা হয় ইন্ডাস্ট্রিয়াল ...</td>\n",
       "    </tr>\n",
       "    <tr>\n",
       "      <th>...</th>\n",
       "      <td>...</td>\n",
       "      <td>...</td>\n",
       "    </tr>\n",
       "    <tr>\n",
       "      <th>1498</th>\n",
       "      <td>the year old minor file a case against her ste...</td>\n",
       "      <td>ভয় দেখিয়ে ছয় মাস ধরে ধর্ষণ করা হয়েছে অভিযোগ কর...</td>\n",
       "    </tr>\n",
       "    <tr>\n",
       "      <th>1499</th>\n",
       "      <td>it seem that the condition for register new pa...</td>\n",
       "      <td>নির্বাচন কমিশন ভবন নির্বাচন কমিশন সচিব হেলালুদ...</td>\n",
       "    </tr>\n",
       "    <tr>\n",
       "      <th>1500</th>\n",
       "      <td>the accident take place on the sonapur alexand...</td>\n",
       "      <td>সুধারামমডেল থানার ওসি মো আনোয়ার হোসেন জানান রো...</td>\n",
       "    </tr>\n",
       "    <tr>\n",
       "      <th>1501</th>\n",
       "      <td>police have recover yaba tablet roll of heroin...</td>\n",
       "      <td>বিডিনিউজ টোয়েন্টিফোর ডটকমকে তিনি বলেন তাদের কা...</td>\n",
       "    </tr>\n",
       "    <tr>\n",
       "      <th>1502</th>\n",
       "      <td>file photo on saturday trudeau announce in ott...</td>\n",
       "      <td>শনিবার অটোয়ায় এক ঘোষণায় তিনি জানান জি সেভেন শী...</td>\n",
       "    </tr>\n",
       "  </tbody>\n",
       "</table>\n",
       "<p>1503 rows × 2 columns</p>\n",
       "</div>"
      ],
      "text/plain": [
       "                                                     en  \\\n",
       "0     twenty three accuse are currently abscond the ...   \n",
       "1     donald trump reuters file photo they give safe...   \n",
       "2     the dead are year old shantona akter and her d...   \n",
       "3     trump deny use the word to describe haiti and ...   \n",
       "4     the settlement is one the large payment make b...   \n",
       "...                                                 ...   \n",
       "1498  the year old minor file a case against her ste...   \n",
       "1499  it seem that the condition for register new pa...   \n",
       "1500  the accident take place on the sonapur alexand...   \n",
       "1501  police have recover yaba tablet roll of heroin...   \n",
       "1502  file photo on saturday trudeau announce in ott...   \n",
       "\n",
       "                                                     bn  \n",
       "0     গত অক্টোবর শুরু হওয়ার পর প্রায় আড়াই মাসে কার্য...  \n",
       "1     ডোনাল্ড ট্রাম্প ছবি রয়টার্স আফগানিস্তানে মার্ক...  \n",
       "2     সবুজবাগ থানার পরিদর্শক তদন্ত মোস্তাফিজুর রহমান...  \n",
       "3     এমাসের শুরু দিকে ওভাল অফিসে অভিবাসন নীতি নিয়ে ...  \n",
       "4     রয়টার্সের এক প্রতিবেদনে বলা হয় ইন্ডাস্ট্রিয়াল ...  \n",
       "...                                                 ...  \n",
       "1498  ভয় দেখিয়ে ছয় মাস ধরে ধর্ষণ করা হয়েছে অভিযোগ কর...  \n",
       "1499  নির্বাচন কমিশন ভবন নির্বাচন কমিশন সচিব হেলালুদ...  \n",
       "1500  সুধারামমডেল থানার ওসি মো আনোয়ার হোসেন জানান রো...  \n",
       "1501  বিডিনিউজ টোয়েন্টিফোর ডটকমকে তিনি বলেন তাদের কা...  \n",
       "1502  শনিবার অটোয়ায় এক ঘোষণায় তিনি জানান জি সেভেন শী...  \n",
       "\n",
       "[1503 rows x 2 columns]"
      ]
     },
     "execution_count": 45,
     "metadata": {},
     "output_type": "execute_result"
    }
   ],
   "source": [
    "preprocess_data"
   ]
  },
  {
   "cell_type": "code",
   "execution_count": 46,
   "metadata": {},
   "outputs": [],
   "source": [
    "from sklearn.model_selection import train_test_split\n",
    "\n",
    "train, test = train_test_split(preprocess_data, test_size=0.1, random_state = 1)"
   ]
  },
  {
   "cell_type": "code",
   "execution_count": 47,
   "metadata": {},
   "outputs": [],
   "source": [
    "train.to_csv('train_news.txt', sep = '\\t', index = False, header = False)"
   ]
  },
  {
   "cell_type": "code",
   "execution_count": 48,
   "metadata": {},
   "outputs": [],
   "source": [
    "test.to_csv('test_news.txt', sep = '\\t', index = False, header = False)"
   ]
  },
  {
   "cell_type": "code",
   "execution_count": null,
   "metadata": {},
   "outputs": [],
   "source": []
  }
 ],
 "metadata": {
  "kernelspec": {
   "display_name": "Python 3",
   "language": "python",
   "name": "python3"
  },
  "language_info": {
   "codemirror_mode": {
    "name": "ipython",
    "version": 3
   },
   "file_extension": ".py",
   "mimetype": "text/x-python",
   "name": "python",
   "nbconvert_exporter": "python",
   "pygments_lexer": "ipython3",
   "version": "3.7.5"
  }
 },
 "nbformat": 4,
 "nbformat_minor": 2
}
