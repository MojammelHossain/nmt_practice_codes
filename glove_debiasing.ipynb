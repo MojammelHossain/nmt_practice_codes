{
 "cells": [
  {
   "cell_type": "markdown",
   "metadata": {},
   "source": [
    "Reduce bias from vector, using algorithm from [Boliukbasi et al., 2016](https://arxiv.org/abs/1607.06520) also help taken from coursera.org course Sequence Models(week2) by deeplearning.ai."
   ]
  },
  {
   "cell_type": "code",
   "execution_count": 1,
   "metadata": {},
   "outputs": [],
   "source": [
    "import numpy as np\n",
    "import pickle"
   ]
  },
  {
   "cell_type": "code",
   "execution_count": 2,
   "metadata": {},
   "outputs": [],
   "source": [
    "# load the vocabulary\n",
    "with open('dict_embed_weights/en_dict.txt', 'rb') as f:\n",
    "    en_dict = pickle.load(f)\n",
    "with open('dict_embed_weights/bn/bn_dict.txt', 'rb') as f:\n",
    "    bn_dict = pickle.load(f)"
   ]
  },
  {
   "cell_type": "code",
   "execution_count": 3,
   "metadata": {},
   "outputs": [],
   "source": [
    "def cosine_similarity(vector1, vector2):\n",
    "    # vector1 and vector2 are numpy array of similar shape\n",
    "    # cosine similarity of two vector will be\n",
    "    # dot product of two vector divided by muliplication of those vectors L2 norm\n",
    "    \n",
    "    # calculate L2 norm\n",
    "    vector1_l2 = np.sqrt(np.sum(np.square(vector1)))\n",
    "    vector2_l2 = np.sqrt(np.sum(np.square(vector2)))\n",
    "    \n",
    "    # calculate similarity\n",
    "    similarity = np.dot(vector1, vector2) / (vector1_l2 * vector2_l2)\n",
    "    \n",
    "    return similarity"
   ]
  },
  {
   "cell_type": "code",
   "execution_count": 4,
   "metadata": {},
   "outputs": [
    {
     "name": "stdout",
     "output_type": "stream",
     "text": [
      "Cosine_similarity(brother, sister) =  0.594084956538147\n",
      "Cosine_similarity(ball, mango) =  0.001340670005048851\n",
      "Cosine_similarity(increase - decrease, negative - positive) =  -0.14973426149530344\n",
      "Cosine_similarity(brother - boy, sister - girl) 0.7199552431856013\n"
     ]
    }
   ],
   "source": [
    "# let's print some similarities\n",
    "print('Cosine_similarity(brother, sister) = ', cosine_similarity(en_dict['brother'], en_dict['sister']))\n",
    "print('Cosine_similarity(ball, mango) = ', cosine_similarity(en_dict['ball'], en_dict['mango']))\n",
    "print('Cosine_similarity(increase - decrease, negative - positive) = ', cosine_similarity((en_dict['increase']-en_dict['decrease']), (en_dict['negative']-en_dict['positive'])))\n",
    "print('Cosine_similarity(brother - boy, sister - girl)', cosine_similarity((en_dict['brother']-en_dict['boy']), (en_dict['sister']-en_dict['girl'])))"
   ]
  },
  {
   "cell_type": "code",
   "execution_count": 5,
   "metadata": {},
   "outputs": [],
   "source": [
    "def word_analogy(word1, word2, word3, vocab):\n",
    "    # word1-word2 -> word3-?(word4)\n",
    "    # word1, word2, word3 are word\n",
    "    \n",
    "    # choose the corresponding word vector from vocabulary\n",
    "    word1_v = vocab[word1]\n",
    "    word2_v = vocab[word2]\n",
    "    word3_v = vocab[word3]\n",
    "    \n",
    "    # load the words from vocabulary\n",
    "    words_in_dict = vocab.keys()\n",
    "    input_words = [word1, word2, word3]\n",
    "    cos_similarity = -10\n",
    "    word4 = None  # keep the best suitable word\n",
    "    for word in words_in_dict:\n",
    "        \n",
    "        # for skip the inputs word\n",
    "        if word in input_words:\n",
    "            continue\n",
    "        \n",
    "        # calculate cosine_similarity\n",
    "        similarity = cosine_similarity((word1_v-word2_v), (word3_v-vocab[word]))\n",
    "        \n",
    "        if cos_similarity < similarity:\n",
    "            cos_similarity = similarity\n",
    "            word4 = word\n",
    "    \n",
    "    # return word with higher similarity\n",
    "    return word4"
   ]
  },
  {
   "cell_type": "code",
   "execution_count": 6,
   "metadata": {},
   "outputs": [
    {
     "name": "stdout",
     "output_type": "stream",
     "text": [
      "man-woman -> grandfather- grandmother\n",
      "boy-girl -> brother- sister\n",
      "bangladesh-bangladeshi -> australia- australian\n",
      "big-bigger -> tall- taller\n"
     ]
    }
   ],
   "source": [
    "# find out the 4th word for the following\n",
    "print('man-woman -> grandfather-', word_analogy('man', 'woman', 'grandfather', en_dict))\n",
    "print('boy-girl -> brother-', word_analogy('boy', 'girl', 'brother', en_dict))\n",
    "print('bangladesh-bangladeshi -> australia-', word_analogy('bangladesh', 'bangladeshi', 'australia', en_dict))\n",
    "print('big-bigger -> tall-', word_analogy('big', 'bigger', 'tall', en_dict))"
   ]
  },
  {
   "cell_type": "code",
   "execution_count": 7,
   "metadata": {},
   "outputs": [],
   "source": [
    "# let's find a vector which roughly encodes the gender idea\n",
    "#g1 = en_dict['grandmother'] - en_dict['grandfather']\n",
    "g2 = en_dict['woman'] - en_dict['man']\n",
    "g3 = en_dict['mother'] -  en_dict['father']\n",
    "#g4 = en_dict['girl'] - en_dict['boy']\n",
    "c_gender = (g2 + g3) / 2"
   ]
  },
  {
   "cell_type": "code",
   "execution_count": 8,
   "metadata": {},
   "outputs": [
    {
     "name": "stdout",
     "output_type": "stream",
     "text": [
      "james :  -0.20298910002941703\n",
      "william :  -0.189571638803583\n",
      "john :  -0.2551546186934181\n",
      "ronaldo :  -0.08791088909446129\n",
      "olivia :  0.17366318175830034\n",
      "emma :  0.21878416043848326\n",
      "mia :  0.16786658942395405\n",
      "isabella :  0.22117549290440713\n"
     ]
    }
   ],
   "source": [
    "# seeing how calculated vector reflect with girl and boy names\n",
    "\n",
    "# some randomly taken girl and boy names\n",
    "names = ['james', 'william', 'john', 'ronaldo', 'olivia', 'emma', 'mia', 'isabella']\n",
    "for name in names:\n",
    "    print(name + ' : ', cosine_similarity(c_gender, en_dict[name]))"
   ]
  },
  {
   "cell_type": "code",
   "execution_count": 9,
   "metadata": {},
   "outputs": [
    {
     "name": "stdout",
     "output_type": "stream",
     "text": [
      "Similarities between some words : \n",
      "ring :  -0.008046233062665014\n",
      "bracelet :  0.10745294737223761\n",
      "guns :  -0.07413901847806628\n",
      "lipstick :  0.2579265516199865\n",
      "eyeglass :  0.07436438121281154\n",
      "science :  -0.043420585010653066\n",
      "tree :  0.03743565451348173\n",
      "literature :  0.05052154843581333\n",
      "fashion :  0.15638154525415773\n",
      "earth :  -0.016548570863480386\n",
      "\n",
      "Similarities between professions : \n",
      "writer :  0.0379288445271604\n",
      "doctor :  0.08424000526451889\n",
      "engineer :  -0.17525582575897017\n",
      "singer :  0.18314793413331615\n",
      "pilot :  -0.053400816522660384\n",
      "receptionist :  0.2679675972384471\n",
      "teacher :  0.14454457496574427\n",
      "designer :  0.06791301366103841\n",
      "knight :  -0.07423116178263871\n"
     ]
    }
   ],
   "source": [
    "# some random words which may or may not connect with gender\n",
    "other_words = ['ring', 'bracelet', 'guns', 'lipstick', 'eyeglass', 'science', 'tree', 'literature', 'fashion', 'earth']\n",
    "\n",
    "# some random professions\n",
    "professions = ['writer', 'doctor', 'engineer', 'singer', 'pilot', 'receptionist', 'teacher', 'designer', 'knight']\n",
    "\n",
    "print('Similarities between some words : ')\n",
    "for word in other_words:\n",
    "    print(word + ' : ', cosine_similarity(c_gender, en_dict[word]))\n",
    "\n",
    "print('\\nSimilarities between professions : ')\n",
    "for word in professions:\n",
    "    print(word + ' : ', cosine_similarity(c_gender, en_dict[word]))"
   ]
  },
  {
   "cell_type": "markdown",
   "metadata": {},
   "source": [
    "From previous similarity output we can see that there are some result which we did expect.\n",
    "But if you notice clearly then bracelet, teacher some other word does not give the result we expect. It may occur for gender biasing."
   ]
  },
  {
   "cell_type": "code",
   "execution_count": 10,
   "metadata": {},
   "outputs": [],
   "source": [
    "# neutralize non-gender specific word\n",
    "def remove_bias(word_vector, c_gender):\n",
    "    # word_vector a word vector which you want to neutralize for gender\n",
    "    # c_gender a vector which roughly encodes the gender idea\n",
    "    \n",
    "    # calculate l2 norm square\n",
    "    c_gender_l2_square = np.sum(np.square(c_gender))\n",
    "    \n",
    "    # calculate bias in word vector\n",
    "    bias = (np.dot(word_vector, c_gender) / c_gender_l2_square) * c_gender\n",
    "    \n",
    "    # remove bias from word vector\n",
    "    word_vector_debias = word_vector - bias\n",
    "    \n",
    "    return word_vector_debias"
   ]
  },
  {
   "cell_type": "code",
   "execution_count": 11,
   "metadata": {},
   "outputs": [
    {
     "name": "stdout",
     "output_type": "stream",
     "text": [
      "Similarity between bracelet, c_gender before remove bias :  0.10745294737223761\n",
      "Similarity between bracelet, c_gender after remove bias :  -7.669631344943666e-18\n",
      "\n",
      "\n",
      "Similarity between fashion, c_gender before remove bias :  0.15638154525415773\n",
      "Similarity between fashion, c_gender after remove bias :  2.145132698151772e-18\n",
      "\n",
      "\n",
      "Similarity between teacher, c_gender before remove bias :  0.14454457496574427\n",
      "Similarity between teacher, c_gender after remove bias :  -1.7518980905370778e-17\n",
      "\n",
      "\n",
      "Similarity between receptionist, c_gender before remove bias :  0.2679675972384471\n",
      "Similarity between receptionist, c_gender after remove bias :  1.0287342325867356e-17\n",
      "\n",
      "\n"
     ]
    }
   ],
   "source": [
    "# list of word for debias\n",
    "list_of_word = ['bracelet', 'fashion', 'teacher', 'receptionist']\n",
    "\n",
    "for word in list_of_word:\n",
    "    print('Similarity between ' + word + ', c_gender before remove bias : ', cosine_similarity(c_gender, en_dict[word]))\n",
    "    word_vector_debias = remove_bias(en_dict[word], c_gender)\n",
    "    print('Similarity between ' + word + ', c_gender after remove bias : ', cosine_similarity(c_gender, word_vector_debias))\n",
    "    print('\\n')"
   ]
  },
  {
   "cell_type": "code",
   "execution_count": 12,
   "metadata": {},
   "outputs": [],
   "source": [
    "# neutralize distance for gender specific word\n",
    "def equalize_words_distance(word_pair_vector, bias_vector):\n",
    "    # bias_vector a vector from which distance will be equal\n",
    "    # word_pair_vector pair of word vectors\n",
    "    \n",
    "    word1_v, word2_v = word_pair_vector\n",
    "    \n",
    "    # calculate mean\n",
    "    mean = (word1_v + word2_v) / 2\n",
    "    \n",
    "    # calculate L2 norm square for bias_vector\n",
    "    norm_b = np.sum(np.square(bias_vector))\n",
    "    \n",
    "    # calculate mean bias\n",
    "    mean_bias = (np.dot(mean, bias_vector) / norm_b) * bias_vector\n",
    "    mean_debias = mean - mean_bias\n",
    "    \n",
    "    # calculate word1_v bias\n",
    "    word1_v_bias = (np.dot(word1_v, bias_vector) / norm_b) * bias_vector\n",
    "    \n",
    "    # calculate word2_v bias\n",
    "    word2_v_bias = (np.dot(word2_v, bias_vector) / norm_b) * bias_vector\n",
    "    \n",
    "    # calculate L2 norm square for mean_debias\n",
    "    norm_md = np.sum(np.square(mean_debias))\n",
    "    \n",
    "    # adjust bias with mean_bias\n",
    "    word1_v_adj = np.sqrt(np.abs(1-norm_md)) * ((word1_v_bias-mean_bias) / np.sqrt(np.sum(np.square((word1_v-mean_debias)-mean_bias))))\n",
    "    word2_v_adj = np.sqrt(np.abs(1-norm_md)) * ((word2_v_bias-mean_bias) / np.sqrt(np.sum(np.square((word2_v-mean_debias)-mean_bias))))\n",
    "    \n",
    "    # calculate final words vector\n",
    "    final_word1_v = word1_v_adj + mean_debias\n",
    "    final_word2_v = word2_v_adj + mean_debias\n",
    "    \n",
    "    return (final_word1_v, final_word2_v)"
   ]
  },
  {
   "cell_type": "code",
   "execution_count": 13,
   "metadata": {},
   "outputs": [
    {
     "name": "stdout",
     "output_type": "stream",
     "text": [
      "Similarity between man, c_gender before equalize distance :  -0.22983910313161754\n",
      "Similarity between woman, c_gender before equalize distance :  0.4673801734130888\n",
      "Similarity between man, c_gender after equalize distance :  -0.6658761946166748\n",
      "Similarity between woman, c_gender after equalize distance :  0.6658761946166747\n",
      "\n",
      "\n",
      "Similarity between grandmother, c_gender before equalize distance :  0.3371162810641586\n",
      "Similarity between grandfather, c_gender before equalize distance :  -0.20021611604548606\n",
      "Similarity between grandmother, c_gender after equalize distance :  0.5669759058114134\n",
      "Similarity between grandfather, c_gender after equalize distance :  -0.5669759058114134\n"
     ]
    }
   ],
   "source": [
    "print('Similarity between man, c_gender before equalize distance : ', cosine_similarity(c_gender, en_dict['man']))\n",
    "print('Similarity between woman, c_gender before equalize distance : ', cosine_similarity(c_gender, en_dict['woman']))\n",
    "final_word1_v, final_word2_v = equalize_words_distance((en_dict['man'], en_dict['woman']), c_gender)\n",
    "print('Similarity between man, c_gender after equalize distance : ', cosine_similarity(c_gender, final_word1_v))\n",
    "print('Similarity between woman, c_gender after equalize distance : ', cosine_similarity(c_gender, final_word2_v))\n",
    "print('\\n')\n",
    "print('Similarity between grandmother, c_gender before equalize distance : ', cosine_similarity(c_gender, en_dict['grandmother']))\n",
    "print('Similarity between grandfather, c_gender before equalize distance : ', cosine_similarity(c_gender, en_dict['grandfather']))\n",
    "final_word1_v, final_word2_v = equalize_words_distance((en_dict['grandmother'], en_dict['grandfather']), c_gender)\n",
    "print('Similarity between grandmother, c_gender after equalize distance : ', cosine_similarity(c_gender, final_word1_v))\n",
    "print('Similarity between grandfather, c_gender after equalize distance : ', cosine_similarity(c_gender, final_word2_v))"
   ]
  },
  {
   "cell_type": "code",
   "execution_count": null,
   "metadata": {},
   "outputs": [],
   "source": []
  }
 ],
 "metadata": {
  "kernelspec": {
   "display_name": "Python 3",
   "language": "python",
   "name": "python3"
  },
  "language_info": {
   "codemirror_mode": {
    "name": "ipython",
    "version": 3
   },
   "file_extension": ".py",
   "mimetype": "text/x-python",
   "name": "python",
   "nbconvert_exporter": "python",
   "pygments_lexer": "ipython3",
   "version": "3.7.5"
  }
 },
 "nbformat": 4,
 "nbformat_minor": 2
}
