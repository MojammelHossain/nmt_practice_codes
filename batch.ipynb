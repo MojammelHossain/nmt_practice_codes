{
 "cells": [
  {
   "cell_type": "code",
   "execution_count": null,
   "metadata": {},
   "outputs": [],
   "source": [
    "from ipynb.fs.full.vocab import *\n",
    "import math"
   ]
  },
  {
   "cell_type": "code",
   "execution_count": null,
   "metadata": {},
   "outputs": [],
   "source": [
    "class Batch:\n",
    "    def __init__(self, batch_size, max_length, seed):\n",
    "        \n",
    "        self.batch_size = batch_size      # number of sentences can hold by each batch\n",
    "        self.max_length = max_length      # fixed sentence length (to convert each sentence into a fixed length)\n",
    "        self.seed = seed                  # for get same batch every time\n",
    "    \n",
    "    \n",
    "    def get_batches(self, in_lang, tar_lang, in_sentences, tar_sentences):\n",
    "        # in_lang language LangVocab obj for input language\n",
    "        # tar_lang language LangVocab obj for target language\n",
    "        # in_sentences a list of input language sentence\n",
    "        # tar_sentences a list of target language sentence\n",
    "        \n",
    "        in_list = []\n",
    "        tar_list = []\n",
    "        for i in range(len(in_sentences)):\n",
    "            # convert each sentence into it's corresponding indices\n",
    "            in_list.append(in_lang.sentence_To_vector(in_sentences[i], True, self.max_length))\n",
    "            tar_list.append(tar_lang.sentence_To_vector(tar_sentences[i], True, self.max_length))\n",
    "        \n",
    "        in_list = np.array(in_list)\n",
    "        tar_list = np.array(tar_list)\n",
    "        \n",
    "        np.random.seed(self.seed)\n",
    "        num_sentences = in_list.shape[0]     # number of training sentence\n",
    "        mini_batches = []\n",
    "        \n",
    "        # Shuffle the training and target sentences\n",
    "        column = list(np.random.permutation(num_sentences))  # return specify range of random number list\n",
    "        in_shuffle = in_list[column, :]\n",
    "        tar_shuffle = tar_list[column, :]\n",
    "        \n",
    "        num_of_batchs = math.floor(num_sentences / self.batch_size)   # number of mini batches of size batch_size by given sentences\n",
    "        for i in range(0, (num_of_batchs - 1)):\n",
    "            # randomly choose the train and corresponding target sentences\n",
    "            in_mini_batch = in_shuffle[(i * self.batch_size) : ((i+1) * self.batch_size), :]\n",
    "            tar_mini_batch = tar_shuffle[(i * self.batch_size) : ((i+1) * self.batch_size), :]\n",
    "            mini_batch = (in_mini_batch, tar_mini_batch)\n",
    "            mini_batches.append(mini_batch)\n",
    "        \n",
    "        # last case (last mini batch < batch_size * 2)\n",
    "        in_mini_batch = in_shuffle[(num_of_batchs * self.batch_size) : , :]\n",
    "        tar_mini_batch = tar_shuffle[(num_of_batchs * self.batch_size) : , :]\n",
    "        mini_batch = (in_mini_batch, tar_mini_batch)\n",
    "        mini_batches.append(mini_batch)\n",
    "        \n",
    "        # list holding the mini batches\n",
    "        # input mini batches can be access by mini_batches[i][0]\n",
    "        # target mini batches can be access by mini_batches[i][1]\n",
    "        return mini_batches"
   ]
  },
  {
   "cell_type": "code",
   "execution_count": null,
   "metadata": {},
   "outputs": [],
   "source": []
  }
 ],
 "metadata": {
  "kernelspec": {
   "display_name": "Python 3",
   "language": "python",
   "name": "python3"
  },
  "language_info": {
   "codemirror_mode": {
    "name": "ipython",
    "version": 3
   },
   "file_extension": ".py",
   "mimetype": "text/x-python",
   "name": "python",
   "nbconvert_exporter": "python",
   "pygments_lexer": "ipython3",
   "version": "3.7.5"
  }
 },
 "nbformat": 4,
 "nbformat_minor": 2
}
