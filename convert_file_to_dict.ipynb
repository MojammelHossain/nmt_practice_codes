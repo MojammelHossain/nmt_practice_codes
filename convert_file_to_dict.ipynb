{
 "cells": [
  {
   "cell_type": "code",
   "execution_count": 1,
   "metadata": {},
   "outputs": [],
   "source": [
    "import numpy as np\n",
    "import ast"
   ]
  },
  {
   "cell_type": "code",
   "execution_count": 2,
   "metadata": {},
   "outputs": [],
   "source": [
    "# Read file\n",
    "lemma_text = np.array(open('e_lemma.txt', encoding = 'UTF-16').read().strip().split('\\n'))"
   ]
  },
  {
   "cell_type": "code",
   "execution_count": 3,
   "metadata": {
    "scrolled": false
   },
   "outputs": [
    {
     "name": "stdout",
     "output_type": "stream",
     "text": [
      "['; e_lemma.txt (Ver.2 for WordSmith 4) '\n",
      " '; Compiled by Yasumasa Someya, September 1, 1998.'\n",
      " '; This lemma list is provided \"as is\" and is free to use for any research']\n",
      "['; NOTE 2: Acronyms and other abbreviated words are listed here without'\n",
      " ';   full stops.(e.g. BA, Mr, Messrs, Tue, YMCA, etc.)'\n",
      " '; =========================================================================='\n",
      " 'a -> an']\n"
     ]
    }
   ],
   "source": [
    "# Remove the introductory section\n",
    "print(lemma_text[0:3])\n",
    "print(lemma_text[20:24])\n",
    "lemma_text = lemma_text[23:]"
   ]
  },
  {
   "cell_type": "code",
   "execution_count": 4,
   "metadata": {},
   "outputs": [
    {
     "data": {
      "text/plain": [
       "['abate ', ' abates,abating,abated']"
      ]
     },
     "execution_count": 4,
     "metadata": {},
     "output_type": "execute_result"
    }
   ],
   "source": [
    "# convert into a pair list\n",
    "split_list = []\n",
    "for i in range(len(lemma_text)):\n",
    "    split_list.append(lemma_text[i].split('->'))\n",
    "split_list[5]"
   ]
  },
  {
   "cell_type": "code",
   "execution_count": 5,
   "metadata": {},
   "outputs": [
    {
     "data": {
      "text/plain": [
       "['abate ', [' abates', 'abating', 'abated']]"
      ]
     },
     "execution_count": 5,
     "metadata": {},
     "output_type": "execute_result"
    }
   ],
   "source": [
    "# split comma separated words into a words vector\n",
    "for i in range(len(split_list)):\n",
    "    split_list[i][1] = split_list[i][1].split(',')\n",
    "split_list[5]"
   ]
  },
  {
   "cell_type": "code",
   "execution_count": 6,
   "metadata": {},
   "outputs": [],
   "source": [
    "# convert into a dictonary\n",
    "lemma_dict = {}\n",
    "for i in range(len(split_list)):\n",
    "    if split_list[i][1] != 1:\n",
    "        for j in range(len(split_list[i][1])):\n",
    "            lemma_dict[split_list[i][1][j].strip()] = split_list[i][0].strip()\n",
    "    else:\n",
    "        lemma_dict[split_list[i][1][0].strip()] = split_list[i][0].strip()"
   ]
  },
  {
   "cell_type": "code",
   "execution_count": 7,
   "metadata": {},
   "outputs": [
    {
     "name": "stdout",
     "output_type": "stream",
     "text": [
      "eat\n",
      "eat\n"
     ]
    }
   ],
   "source": [
    "# some sameple of dictonary\n",
    "print(lemma_dict['eaten'])\n",
    "print(lemma_dict['eating'])"
   ]
  },
  {
   "cell_type": "code",
   "execution_count": null,
   "metadata": {},
   "outputs": [],
   "source": [
    "# save the dictonary into lemma_dict.txt file\n",
    "with open('lemma_dict.txt', 'w') as f:\n",
    "    print(lemma_dict, file=f)"
   ]
  },
  {
   "cell_type": "code",
   "execution_count": 8,
   "metadata": {},
   "outputs": [],
   "source": [
    "# Thanks to https://kite.com/python/answers/how-to-read-a-dictionary-from-a-file-in--python\n",
    "file = open(\"lemma_dict.txt\", \"r\")         # open file in read mode\n",
    "contents = file.read()                     # read the content from file\n",
    "dictionary = ast.literal_eval(contents)    # convert the content into dictonary\n",
    "file.close()                               # close the file"
   ]
  },
  {
   "cell_type": "code",
   "execution_count": 9,
   "metadata": {},
   "outputs": [
    {
     "name": "stdout",
     "output_type": "stream",
     "text": [
      "give\n",
      "give\n"
     ]
    }
   ],
   "source": [
    "# sample after read file\n",
    "print(dictionary['given'])\n",
    "print(dictionary['gives'])"
   ]
  },
  {
   "cell_type": "code",
   "execution_count": null,
   "metadata": {},
   "outputs": [],
   "source": []
  }
 ],
 "metadata": {
  "kernelspec": {
   "display_name": "Python 3",
   "language": "python",
   "name": "python3"
  },
  "language_info": {
   "codemirror_mode": {
    "name": "ipython",
    "version": 3
   },
   "file_extension": ".py",
   "mimetype": "text/x-python",
   "name": "python",
   "nbconvert_exporter": "python",
   "pygments_lexer": "ipython3",
   "version": "3.7.5"
  }
 },
 "nbformat": 4,
 "nbformat_minor": 2
}
